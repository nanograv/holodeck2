{
 "cells": [
  {
   "cell_type": "code",
   "execution_count": null,
   "id": "0",
   "metadata": {},
   "outputs": [],
   "source": [
    "import numpy as np\n",
    "import scipy as sp\n",
    "import scipy.stats\n",
    "import matplotlib.pyplot as plt\n",
    "\n",
    "import holodeck2 as holo\n",
    "from holodeck2 import physics, utils\n",
    "from holodeck2.constants import YR"
   ]
  },
  {
   "cell_type": "code",
   "execution_count": null,
   "id": "1",
   "metadata": {},
   "outputs": [],
   "source": [
    "sam = holo.sam.SAM()"
   ]
  },
  {
   "cell_type": "code",
   "execution_count": null,
   "id": "2",
   "metadata": {},
   "outputs": [],
   "source": [
    "edges_3d, ndens_3d = sam.number_density_3d()"
   ]
  },
  {
   "cell_type": "code",
   "execution_count": null,
   "id": "3",
   "metadata": {},
   "outputs": [],
   "source": [
    "fobs_gw_cents, fobs_gw_edges = physics.pta_freqs()\n",
    "cents_4d, numb_4d = holo.sam.number_expect_4d_gwonly_instant(fobs_gw_edges, edges_3d, ndens_3d)"
   ]
  },
  {
   "cell_type": "code",
   "execution_count": null,
   "id": "4",
   "metadata": {},
   "outputs": [],
   "source": [
    "gwb = holo.sam.gws_from_number_expect_instant(fobs_gw_edges, cents_4d, numb_4d, realize=100)"
   ]
  },
  {
   "cell_type": "code",
   "execution_count": null,
   "id": "5",
   "metadata": {},
   "outputs": [],
   "source": [
    "print(f\"{gwb.shape=}\")\n",
    "gwb = np.sqrt(np.sum(gwb, axis=(1, 2, 3)))\n",
    "print(f\"{gwb.shape=}\")\n",
    "\n",
    "plt.loglog(fobs_gw_cents*YR, gwb)\n",
    "plt.show()"
   ]
  },
  {
   "cell_type": "code",
   "execution_count": null,
   "id": "6",
   "metadata": {},
   "outputs": [],
   "source": [
    "fig, axes = plt.subplots(figsize=[12, 5], ncols=3)\n",
    "labels = ['m1', 'm2', 'z']\n",
    "ymax = np.sum(ndens_3d)\n",
    "ymin = ymax / 1e10\n",
    "\n",
    "for ii, ax in enumerate(axes):\n",
    "    xx = edges_3d[ii]\n",
    "    ax.set(\n",
    "        xscale='log', xlabel=labels[ii],\n",
    "        yscale='log', ylabel='Density', ylim=[ymin, ymax],\n",
    "    )\n",
    "\n",
    "    margin = [0, 1, 2]\n",
    "    margin.pop(ii)\n",
    "    yy = np.sum(ndens_3d, axis=tuple(margin))\n",
    "\n",
    "    ax.plot(xx, yy)\n",
    "\n",
    "plt.show()"
   ]
  },
  {
   "cell_type": "code",
   "execution_count": null,
   "id": "7",
   "metadata": {},
   "outputs": [],
   "source": [
    "fig, axes = plt.subplots(figsize=[12, 10], ncols=3, nrows=3)\n",
    "labels = ['m1', 'm2', 'z']\n",
    "ymax = np.sum(ndens_3d)\n",
    "ymin = ymax / 1e10\n",
    "\n",
    "for (ii, jj), ax in np.ndenumerate(axes):\n",
    "    if ii < jj:\n",
    "        ax.set_visible(False)\n",
    "        continue\n",
    "\n",
    "    ax.set(\n",
    "        xscale='log',\n",
    "        # xlabel=labels[ii],\n",
    "        yscale='log',\n",
    "        # ylim=[ymin, ymax],\n",
    "        # ylabel='Density',\n",
    "    )\n",
    "\n",
    "\n",
    "    xx = edges_3d[jj]\n",
    "\n",
    "    # ---- 1D\n",
    "    if ii == jj:\n",
    "        margin = [0, 1, 2]\n",
    "        margin.pop(jj)\n",
    "        yy = np.sum(ndens_3d, axis=tuple(margin))\n",
    "\n",
    "        ax.plot(xx, yy)\n",
    "        ax.set(ylim=[ymin, ymax])\n",
    "\n",
    "    # ---- 2D\n",
    "    else:\n",
    "        yy = edges_3d[ii]\n",
    "        mesh = np.meshgrid(xx, yy, indexing='ij')\n",
    "\n",
    "        margin = [0, 1, 2]\n",
    "        margin.pop(ii)  # ii > jj, so do ii first\n",
    "        margin.pop(jj)\n",
    "        zz = np.sum(ndens_3d, axis=tuple(margin))\n",
    "\n",
    "        ax.pcolormesh(*mesh, np.log10(zz), shading='gouraud')\n",
    "\n",
    "\n",
    "\n",
    "plt.show()"
   ]
  }
 ],
 "metadata": {
  "kernelspec": {
   "display_name": "py313",
   "language": "python",
   "name": "python3"
  },
  "language_info": {
   "codemirror_mode": {
    "name": "ipython",
    "version": 3
   },
   "file_extension": ".py",
   "mimetype": "text/x-python",
   "name": "python",
   "nbconvert_exporter": "python",
   "pygments_lexer": "ipython3",
   "version": "3.13.2"
  }
 },
 "nbformat": 4,
 "nbformat_minor": 5
}
