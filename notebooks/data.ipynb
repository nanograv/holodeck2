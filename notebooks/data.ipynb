{
 "cells": [
  {
   "cell_type": "code",
   "execution_count": null,
   "id": "0",
   "metadata": {},
   "outputs": [],
   "source": [
    "import numpy as np\n",
    "import h5py\n",
    "import matplotlib.pyplot as plt"
   ]
  },
  {
   "cell_type": "code",
   "execution_count": null,
   "id": "1",
   "metadata": {},
   "outputs": [],
   "source": [
    "def weighted_quantile(values, quantiles, sample_weight=None, values_sorted=False):\n",
    "    values = np.array(values)\n",
    "    quantiles = np.array(quantiles)\n",
    "    if sample_weight is None:\n",
    "        sample_weight = np.ones(len(values))\n",
    "    sample_weight = np.array(sample_weight)\n",
    "    assert np.all(quantiles >= 0) and np.all(quantiles <= 1), \\\n",
    "        'quantiles should be in [0, 1]'\n",
    "\n",
    "    if not values_sorted:\n",
    "        sorter = np.argsort(values)\n",
    "        values = values[sorter]\n",
    "        sample_weight = sample_weight[sorter]\n",
    "\n",
    "    print(f\"{sample_weight=}\")\n",
    "    weighted_quantiles = np.cumsum(sample_weight) - 0.5 * sample_weight\n",
    "    print(f\"\\t{weighted_quantiles=}\")\n",
    "    weighted_quantiles /= np.sum(sample_weight)\n",
    "    print(f\"{quantiles=}\")\n",
    "    print(f\"{weighted_quantiles=}\")\n",
    "    print(f\"{values=}\")\n",
    "    return np.interp(quantiles, weighted_quantiles, values)\n",
    "\n",
    "weighted_quantile([0.0, 1.0], [0.0, 0.5, 1.0])"
   ]
  },
  {
   "cell_type": "code",
   "execution_count": null,
   "id": "2",
   "metadata": {},
   "outputs": [],
   "source": [
    "fname = \"/Users/lzkelley/Programs/nanograv/holodeck2/holodeck2_cpp/output.hdf5\"\n",
    "with h5py.File(fname, \"r\") as h5in:\n",
    "    # Get the list of datasets in the file\n",
    "    datasets = list(h5in.keys())\n",
    "    print(\"Datasets in the file:\", datasets)\n",
    "\n",
    "    grid_keys = list(h5in['grid'].keys())\n",
    "    print(f\"{grid_keys=}\")\n",
    "    for kk, vv in h5in['grid'].items():\n",
    "        print(f\"\\t{kk}: {np.shape(vv)}\")\n",
    "\n",
    "    # Read the data from a specific dataset\n",
    "    fobs_cents = h5in[\"grid/fobs_cents\"][:]\n",
    "    mass_edges = h5in[\"grid/mass_edges\"][:]\n",
    "    mass_cents = h5in[\"grid/mass_cents\"][:]\n",
    "    redz_edges = h5in[\"grid/redz_edges\"][:]\n",
    "    redz_cents = h5in[\"grid/redz_cents\"][:]\n",
    "    numb_expect = h5in[\"numb_expect\"][:]\n",
    "    num_dens = h5in[\"num_dens\"][:]\n",
    "    gwb = h5in[\"gwb\"][:]\n",
    "    print(f\"{num_dens.shape=}\")\n",
    "    print(f\"{numb_expect.shape=}\")\n",
    "    print(f\"{gwb.shape=}\")"
   ]
  },
  {
   "cell_type": "code",
   "execution_count": null,
   "id": "3",
   "metadata": {},
   "outputs": [],
   "source": [
    "print(f\"{num_dens.shape=}\")\n",
    "\n",
    "fig, ax = plt.subplots()\n",
    "ax.set(\n",
    "    xscale='log',\n",
    "    yscale='log', ylim=[1e-12, 1e5],\n",
    "    title='Number Density'\n",
    ")\n",
    "ax.grid(alpha=0.15)\n",
    "\n",
    "xx = mass_edges\n",
    "\n",
    "vals = num_dens.sum(axis=(1, 2))\n",
    "ax.plot(xx, vals)\n",
    "ax.scatter(xx, vals)\n",
    "\n",
    "vals = num_dens.sum(axis=(0, 2))\n",
    "ax.plot(xx, vals)\n",
    "ax.scatter(xx, vals)\n",
    "\n",
    "for x in xx:\n",
    "    ax.axvline(x, alpha=0.1, color='0.5')\n",
    "\n",
    "plt.show()"
   ]
  },
  {
   "cell_type": "code",
   "execution_count": null,
   "id": "4",
   "metadata": {},
   "outputs": [],
   "source": [
    "fig, ax = plt.subplots()\n",
    "ax.set(\n",
    "    xscale='log',\n",
    "    yscale='log', ylim=[1e-15, 1e15],\n",
    "    title='Number Expected'\n",
    ")\n",
    "ax.grid(alpha=0.15)\n",
    "\n",
    "xx = fobs_cents\n",
    "vals = numb_expect.sum(axis=(1, 2, 3))\n",
    "print(vals)\n",
    "\n",
    "ax.plot(xx, vals)\n",
    "ax.scatter(xx, vals)\n",
    "for ff in xx:\n",
    "    ax.axvline(ff, alpha=0.1, color='0.5')\n",
    "\n",
    "plt.show()"
   ]
  },
  {
   "cell_type": "code",
   "execution_count": null,
   "id": "5",
   "metadata": {},
   "outputs": [],
   "source": [
    "fig, ax = plt.subplots()\n",
    "ax.set(xscale='log', yscale='log')\n",
    "ax.grid(alpha=0.15)\n",
    "\n",
    "ax.plot(fobs_cents, gwb)\n",
    "\n",
    "plt.show()"
   ]
  },
  {
   "cell_type": "code",
   "execution_count": null,
   "id": "6",
   "metadata": {},
   "outputs": [],
   "source": []
  }
 ],
 "metadata": {
  "kernelspec": {
   "display_name": "py313",
   "language": "python",
   "name": "python3"
  },
  "language_info": {
   "codemirror_mode": {
    "name": "ipython",
    "version": 3
   },
   "file_extension": ".py",
   "mimetype": "text/x-python",
   "name": "python",
   "nbconvert_exporter": "python",
   "pygments_lexer": "ipython3",
   "version": "3.13.2"
  }
 },
 "nbformat": 4,
 "nbformat_minor": 5
}
